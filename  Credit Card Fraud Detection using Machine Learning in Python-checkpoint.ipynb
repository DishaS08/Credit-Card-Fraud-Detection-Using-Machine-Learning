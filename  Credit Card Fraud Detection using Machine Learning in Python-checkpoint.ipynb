{
 "cells": [
  {
   "cell_type": "code",
   "execution_count": 3,
   "id": "3a2b38e6-6296-4172-8dd7-aaefe0564ec0",
   "metadata": {},
   "outputs": [],
   "source": [
    "import numpy as np\n",
    "import pandas as pd\n",
    "from sklearn.model_selection import train_test_split\n",
    "form sklearn.linear_model import LogisticRegression\n",
    "from sklearn.metrics import accuracy_score"
   ]
  },
  {
   "cell_type": "code",
   "execution_count": null,
   "id": "2de9a606-cce1-440d-932c-0363f50c6c88",
   "metadata": {},
   "outputs": [],
   "source": [
    "#loading dataset to pandas as DataFrame \n",
    "\n",
    "credit_card_data = pd.read_csv('archive (1)/creditcard.csv')"
   ]
  },
  {
   "cell_type": "code",
   "execution_count": null,
   "id": "efab77da-ca8b-4502-a7f3-53baeffc30b0",
   "metadata": {},
   "outputs": [],
   "source": [
    "#first 5 rows of the dataset \n",
    "\n",
    "credit_card_data.head()"
   ]
  },
  {
   "cell_type": "code",
   "execution_count": null,
   "id": "25309a11-8af0-4b70-b64a-4d61829e207d",
   "metadata": {},
   "outputs": [],
   "source": []
  },
  {
   "cell_type": "code",
   "execution_count": null,
   "id": "fe241d50-df45-4ce9-9210-ac6f61e99611",
   "metadata": {},
   "outputs": [],
   "source": []
  }
 ],
 "metadata": {
  "kernelspec": {
   "display_name": "Python 3 (ipykernel)",
   "language": "python",
   "name": "python3"
  },
  "language_info": {
   "codemirror_mode": {
    "name": "ipython",
    "version": 3
   },
   "file_extension": ".py",
   "mimetype": "text/x-python",
   "name": "python",
   "nbconvert_exporter": "python",
   "pygments_lexer": "ipython3",
   "version": "3.11.4"
  }
 },
 "nbformat": 4,
 "nbformat_minor": 5
}
